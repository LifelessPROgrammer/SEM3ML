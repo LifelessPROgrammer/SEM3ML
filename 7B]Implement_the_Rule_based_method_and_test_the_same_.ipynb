{
  "nbformat": 4,
  "nbformat_minor": 0,
  "metadata": {
    "colab": {
      "provenance": [],
      "authorship_tag": "ABX9TyP5jQE8Zs8QFNGHyn/g1orR",
      "include_colab_link": true
    },
    "kernelspec": {
      "name": "python3",
      "display_name": "Python 3"
    },
    "language_info": {
      "name": "python"
    }
  },
  "cells": [
    {
      "cell_type": "markdown",
      "metadata": {
        "id": "view-in-github",
        "colab_type": "text"
      },
      "source": [
        "<a href=\"https://colab.research.google.com/github/LifelessPROgrammer/SEM3ML/blob/colabs/7B%5DImplement_the_Rule_based_method_and_test_the_same_.ipynb\" target=\"_parent\"><img src=\"https://colab.research.google.com/assets/colab-badge.svg\" alt=\"Open In Colab\"/></a>"
      ]
    },
    {
      "cell_type": "code",
      "execution_count": 1,
      "metadata": {
        "id": "OCaLFJw1wV75"
      },
      "outputs": [],
      "source": [
        "from sklearn.metrics import accuracy_score, confusion_matrix\n",
        "from sklearn.model_selection import train_test_split\n",
        "import numpy as np"
      ]
    },
    {
      "cell_type": "code",
      "source": [
        "# Generate some random data for demonstration\n",
        "X = np.random.rand(100, 2)\n",
        "y = np.random.randint(0, 2, 100)"
      ],
      "metadata": {
        "id": "07qBIMoAwhHu"
      },
      "execution_count": 2,
      "outputs": []
    },
    {
      "cell_type": "code",
      "source": [
        "# Split the data into training and test sets\n",
        "X_train, X_test, y_train, y_test = train_test_split(X, y, test_size=0.2)"
      ],
      "metadata": {
        "id": "Bbik6xv_wqel"
      },
      "execution_count": 23,
      "outputs": []
    },
    {
      "cell_type": "code",
      "source": [
        "# Define the rule-based classifier\n",
        "def rule_based_classifier(X):\n",
        "    if X[0] > X[1]:\n",
        "        return 0\n",
        "    else:\n",
        "        return 1"
      ],
      "metadata": {
        "id": "JZG4vzW0w1rE"
      },
      "execution_count": 21,
      "outputs": []
    },
    {
      "cell_type": "code",
      "source": [
        "# Make predictions on the test set using the rule-based classifier\n",
        "y_pred = np.array([rule_based_classifier(x) for x in X_test])"
      ],
      "metadata": {
        "id": "LbhLvYMXyCDc"
      },
      "execution_count": 24,
      "outputs": []
    },
    {
      "cell_type": "code",
      "source": [
        "# Calculate the test score (accuracy)\n",
        "test_score = accuracy_score(y_test, y_pred)\n",
        "print(\"Test Score: \", test_score)"
      ],
      "metadata": {
        "colab": {
          "base_uri": "https://localhost:8080/"
        },
        "id": "b4E4Pf9T0WXh",
        "outputId": "af2c1acc-4e18-4ea7-9ce9-27dc791bac85"
      },
      "execution_count": 25,
      "outputs": [
        {
          "output_type": "stream",
          "name": "stdout",
          "text": [
            "Test Score:  0.4\n"
          ]
        }
      ]
    },
    {
      "cell_type": "code",
      "source": [
        "# Calculate the confusion matrix\n",
        "confusion_mat = confusion_matrix(y_test, y_pred)\n",
        "print(\"Confusion Matrix: \\n\", confusion_mat)"
      ],
      "metadata": {
        "colab": {
          "base_uri": "https://localhost:8080/"
        },
        "id": "sjuqOTf40biQ",
        "outputId": "1a4fdeea-2e9b-40e1-d0bb-4eea0f7814f6"
      },
      "execution_count": 26,
      "outputs": [
        {
          "output_type": "stream",
          "name": "stdout",
          "text": [
            "Confusion Matrix: \n",
            " [[4 9]\n",
            " [3 4]]\n"
          ]
        }
      ]
    }
  ]
}