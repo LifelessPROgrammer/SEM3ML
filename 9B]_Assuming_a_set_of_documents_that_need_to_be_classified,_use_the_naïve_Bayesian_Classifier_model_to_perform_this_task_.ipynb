{
  "nbformat": 4,
  "nbformat_minor": 0,
  "metadata": {
    "colab": {
      "provenance": [],
      "authorship_tag": "ABX9TyNFUY95Irp40Hyr0WWoYdEi",
      "include_colab_link": true
    },
    "kernelspec": {
      "name": "python3",
      "display_name": "Python 3"
    },
    "language_info": {
      "name": "python"
    }
  },
  "cells": [
    {
      "cell_type": "markdown",
      "metadata": {
        "id": "view-in-github",
        "colab_type": "text"
      },
      "source": [
        "<a href=\"https://colab.research.google.com/github/LifelessPROgrammer/SEM3ML/blob/colabs/9B%5D_Assuming_a_set_of_documents_that_need_to_be_classified%2C_use_the_na%C3%AFve_Bayesian_Classifier_model_to_perform_this_task_.ipynb\" target=\"_parent\"><img src=\"https://colab.research.google.com/assets/colab-badge.svg\" alt=\"Open In Colab\"/></a>"
      ]
    },
    {
      "cell_type": "code",
      "source": [
        "!pip install pgmpy\n",
        "import pandas as pd\n",
        "from pgmpy.estimators import MaximumLikelihoodEstimator\n",
        "from pgmpy.models import BayesianModel\n",
        "from pgmpy.inference import VariableElimination"
      ],
      "metadata": {
        "colab": {
          "base_uri": "https://localhost:8080/"
        },
        "id": "ihq9sH30LKFl",
        "outputId": "7bfc286f-84b1-45c3-f138-06d183861b0e"
      },
      "execution_count": 12,
      "outputs": [
        {
          "output_type": "stream",
          "name": "stdout",
          "text": [
            "Collecting pgmpy\n",
            "  Downloading pgmpy-0.1.24-py3-none-any.whl (2.0 MB)\n",
            "\u001b[2K     \u001b[90m━━━━━━━━━━━━━━━━━━━━━━━━━━━━━━━━━━━━━━━━\u001b[0m \u001b[32m2.0/2.0 MB\u001b[0m \u001b[31m10.1 MB/s\u001b[0m eta \u001b[36m0:00:00\u001b[0m\n",
            "\u001b[?25hRequirement already satisfied: networkx in /usr/local/lib/python3.10/dist-packages (from pgmpy) (3.2.1)\n",
            "Requirement already satisfied: numpy in /usr/local/lib/python3.10/dist-packages (from pgmpy) (1.25.2)\n",
            "Requirement already satisfied: scipy in /usr/local/lib/python3.10/dist-packages (from pgmpy) (1.11.4)\n",
            "Requirement already satisfied: scikit-learn in /usr/local/lib/python3.10/dist-packages (from pgmpy) (1.2.2)\n",
            "Requirement already satisfied: pandas in /usr/local/lib/python3.10/dist-packages (from pgmpy) (1.5.3)\n",
            "Requirement already satisfied: pyparsing in /usr/local/lib/python3.10/dist-packages (from pgmpy) (3.1.1)\n",
            "Requirement already satisfied: torch in /usr/local/lib/python3.10/dist-packages (from pgmpy) (2.1.0+cu121)\n",
            "Requirement already satisfied: statsmodels in /usr/local/lib/python3.10/dist-packages (from pgmpy) (0.14.1)\n",
            "Requirement already satisfied: tqdm in /usr/local/lib/python3.10/dist-packages (from pgmpy) (4.66.2)\n",
            "Requirement already satisfied: joblib in /usr/local/lib/python3.10/dist-packages (from pgmpy) (1.3.2)\n",
            "Requirement already satisfied: opt-einsum in /usr/local/lib/python3.10/dist-packages (from pgmpy) (3.3.0)\n",
            "Requirement already satisfied: python-dateutil>=2.8.1 in /usr/local/lib/python3.10/dist-packages (from pandas->pgmpy) (2.8.2)\n",
            "Requirement already satisfied: pytz>=2020.1 in /usr/local/lib/python3.10/dist-packages (from pandas->pgmpy) (2023.4)\n",
            "Requirement already satisfied: threadpoolctl>=2.0.0 in /usr/local/lib/python3.10/dist-packages (from scikit-learn->pgmpy) (3.3.0)\n",
            "Requirement already satisfied: patsy>=0.5.4 in /usr/local/lib/python3.10/dist-packages (from statsmodels->pgmpy) (0.5.6)\n",
            "Requirement already satisfied: packaging>=21.3 in /usr/local/lib/python3.10/dist-packages (from statsmodels->pgmpy) (23.2)\n",
            "Requirement already satisfied: filelock in /usr/local/lib/python3.10/dist-packages (from torch->pgmpy) (3.13.1)\n",
            "Requirement already satisfied: typing-extensions in /usr/local/lib/python3.10/dist-packages (from torch->pgmpy) (4.10.0)\n",
            "Requirement already satisfied: sympy in /usr/local/lib/python3.10/dist-packages (from torch->pgmpy) (1.12)\n",
            "Requirement already satisfied: jinja2 in /usr/local/lib/python3.10/dist-packages (from torch->pgmpy) (3.1.3)\n",
            "Requirement already satisfied: fsspec in /usr/local/lib/python3.10/dist-packages (from torch->pgmpy) (2023.6.0)\n",
            "Requirement already satisfied: triton==2.1.0 in /usr/local/lib/python3.10/dist-packages (from torch->pgmpy) (2.1.0)\n",
            "Requirement already satisfied: six in /usr/local/lib/python3.10/dist-packages (from patsy>=0.5.4->statsmodels->pgmpy) (1.16.0)\n",
            "Requirement already satisfied: MarkupSafe>=2.0 in /usr/local/lib/python3.10/dist-packages (from jinja2->torch->pgmpy) (2.1.5)\n",
            "Requirement already satisfied: mpmath>=0.19 in /usr/local/lib/python3.10/dist-packages (from sympy->torch->pgmpy) (1.3.0)\n",
            "Installing collected packages: pgmpy\n",
            "Successfully installed pgmpy-0.1.24\n"
          ]
        }
      ]
    },
    {
      "cell_type": "code",
      "source": [
        "data = pd.read_csv(\"/content/DS4.csv\")\n",
        "heart_disease = pd.DataFrame(data)\n",
        "print(heart_disease)"
      ],
      "metadata": {
        "colab": {
          "base_uri": "https://localhost:8080/"
        },
        "id": "jOEUmozBMF6Z",
        "outputId": "1bd9214b-88b8-4ec3-b455-c72394e702e1"
      },
      "execution_count": 18,
      "outputs": [
        {
          "output_type": "stream",
          "name": "stdout",
          "text": [
            "    Unnamed: 0  age  Gender  Family  diet  Lifestyle  cholestrol  heartdisease\n",
            "0          NaN    0       0       1     1          3           0             1\n",
            "1          NaN    0       1       1     1          3           0             1\n",
            "2          NaN    1       0       0     0          2           1             1\n",
            "3          NaN    4       0       1     1          3           2             0\n",
            "4          NaN    3       1       1     0          0           2             0\n",
            "5          NaN    2       0       1     1          1           0             1\n",
            "6          NaN    4       0       1     0          2           0             1\n",
            "7          NaN    0       0       1     1          3           0             1\n",
            "8          NaN    3       1       1     0          0           2             0\n",
            "9          NaN    1       1       0     0          0           2             1\n",
            "10         NaN    4       1       0     1          2           0             1\n",
            "11         NaN    4       0       1     1          3           2             0\n",
            "12         NaN    2       1       0     0          0           0             0\n",
            "13         NaN    2       0       1     1          1           0             1\n",
            "14         NaN    3       1       1     0          0           1             0\n",
            "15         NaN    0       0       1     0          0           2             1\n",
            "16         NaN    1       1       0     1          2           1             1\n",
            "17         NaN    3       1       1     1          0           1             0\n",
            "18         NaN    4       0       1     1          3           2             0\n"
          ]
        }
      ]
    },
    {
      "cell_type": "code",
      "source": [
        "model = BayesianModel([\n",
        "('age', 'Lifestyle'),\n",
        "('Gender', 'Lifestyle'),\n",
        "('Family', 'heartdisease'),\n",
        "('diet', 'cholestrol'),\n",
        "('Lifestyle', 'diet'),\n",
        "('cholestrol', 'heartdisease'),\n",
        "('diet', 'cholestrol')\n",
        "])"
      ],
      "metadata": {
        "colab": {
          "base_uri": "https://localhost:8080/"
        },
        "id": "Ed5cHKBzMQNR",
        "outputId": "bb1b3c53-f8b3-4115-dc4c-1bcf36d4a3c5"
      },
      "execution_count": 23,
      "outputs": [
        {
          "output_type": "stream",
          "name": "stderr",
          "text": [
            "WARNING:pgmpy:BayesianModel has been renamed to BayesianNetwork. Please use BayesianNetwork class, BayesianModel will be removed in future.\n"
          ]
        }
      ]
    },
    {
      "cell_type": "code",
      "source": [
        "model.fit(heart_disease, estimator=MaximumLikelihoodEstimator)\n",
        "HeartDisease_infer = VariableElimination(model)\n",
        "print('For Age enter SuperSeniorCitizen:0, SeniorCitizen:1, MiddleAged:2, Youth:3, Teen:4')\n",
        "print('For Gender enter Male:0, Female:1')\n",
        "print('For Family History enter Yes:1, No:0')\n",
        "print('For Diet enter High:0, Medium:1')\n",
        "print('for LifeStyle enter Athlete:0, Active:1, Moderate:2, Sedentary:3')\n",
        "print('for Cholesterol enter High:0, BorderLine:1, Normal:2')"
      ],
      "metadata": {
        "colab": {
          "base_uri": "https://localhost:8080/"
        },
        "id": "sofHkwGPNcGF",
        "outputId": "2f7a7ac1-4fd4-448d-ddf4-2c7b56181405"
      },
      "execution_count": 24,
      "outputs": [
        {
          "output_type": "stream",
          "name": "stdout",
          "text": [
            "For Age enter SuperSeniorCitizen:0, SeniorCitizen:1, MiddleAged:2, Youth:3, Teen:4\n",
            "For Gender enter Male:0, Female:1\n",
            "For Family History enter Yes:1, No:0\n",
            "For Diet enter High:0, Medium:1\n",
            "for LifeStyle enter Athlete:0, Active:1, Moderate:2, Sedentary:3\n",
            "for Cholesterol enter High:0, BorderLine:1, Normal:2\n"
          ]
        }
      ]
    },
    {
      "cell_type": "code",
      "source": [
        "q = HeartDisease_infer.query(variables=['heartdisease'], evidence={\n",
        "    'age': int(input('Enter Age: ')),\n",
        "    'Gender': int(input('Enter Gender: ')),\n",
        "    'Family': int(input('Enter Family History: ')),\n",
        "    'diet': int(input('Enter Diet: ')),\n",
        "    'Lifestyle': int(input('Enter Lifestyle: ')),\n",
        "    'cholestrol': int(input('Enter Cholestrol: '))\n",
        "})"
      ],
      "metadata": {
        "colab": {
          "base_uri": "https://localhost:8080/"
        },
        "id": "i2wMtr3LMW-j",
        "outputId": "d79daf5d-8ff1-43fa-f2bd-f2750d7aa26f"
      },
      "execution_count": 25,
      "outputs": [
        {
          "name": "stdout",
          "output_type": "stream",
          "text": [
            "Enter Age: 4\n",
            "Enter Gender: 0\n",
            "Enter Family History: 0\n",
            "Enter Diet: 1\n",
            "Enter Lifestyle: 1\n",
            "Enter Cholestrol: 2\n"
          ]
        },
        {
          "output_type": "stream",
          "name": "stderr",
          "text": [
            "WARNING:pgmpy:BayesianModel has been renamed to BayesianNetwork. Please use BayesianNetwork class, BayesianModel will be removed in future.\n",
            "WARNING:pgmpy:BayesianModel has been renamed to BayesianNetwork. Please use BayesianNetwork class, BayesianModel will be removed in future.\n"
          ]
        }
      ]
    },
    {
      "cell_type": "code",
      "source": [
        "print(q)"
      ],
      "metadata": {
        "colab": {
          "base_uri": "https://localhost:8080/"
        },
        "id": "jo0-3EnCNo0T",
        "outputId": "cfd70865-a938-4d93-9b99-404052960782"
      },
      "execution_count": 26,
      "outputs": [
        {
          "output_type": "stream",
          "name": "stdout",
          "text": [
            "+-----------------+---------------------+\n",
            "| heartdisease    |   phi(heartdisease) |\n",
            "+=================+=====================+\n",
            "| heartdisease(0) |              0.5000 |\n",
            "+-----------------+---------------------+\n",
            "| heartdisease(1) |              0.5000 |\n",
            "+-----------------+---------------------+\n"
          ]
        }
      ]
    }
  ]
}