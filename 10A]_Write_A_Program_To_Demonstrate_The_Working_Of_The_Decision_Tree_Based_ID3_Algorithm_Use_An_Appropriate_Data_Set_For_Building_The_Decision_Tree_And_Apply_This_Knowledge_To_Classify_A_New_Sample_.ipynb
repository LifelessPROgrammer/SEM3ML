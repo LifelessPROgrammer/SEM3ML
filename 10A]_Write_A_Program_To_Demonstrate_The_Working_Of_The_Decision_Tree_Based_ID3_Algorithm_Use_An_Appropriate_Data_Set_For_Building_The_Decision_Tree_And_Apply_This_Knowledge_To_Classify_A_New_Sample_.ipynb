{
  "nbformat": 4,
  "nbformat_minor": 0,
  "metadata": {
    "colab": {
      "provenance": [],
      "authorship_tag": "ABX9TyMSZIkRQFRvSMH+BOhcnFAm",
      "include_colab_link": true
    },
    "kernelspec": {
      "name": "python3",
      "display_name": "Python 3"
    },
    "language_info": {
      "name": "python"
    }
  },
  "cells": [
    {
      "cell_type": "markdown",
      "metadata": {
        "id": "view-in-github",
        "colab_type": "text"
      },
      "source": [
        "<a href=\"https://colab.research.google.com/github/LifelessPROgrammer/SEM3ML/blob/colabs/10A%5D_Write_A_Program_To_Demonstrate_The_Working_Of_The_Decision_Tree_Based_ID3_Algorithm_Use_An_Appropriate_Data_Set_For_Building_The_Decision_Tree_And_Apply_This_Knowledge_To_Classify_A_New_Sample_.ipynb\" target=\"_parent\"><img src=\"https://colab.research.google.com/assets/colab-badge.svg\" alt=\"Open In Colab\"/></a>"
      ]
    },
    {
      "cell_type": "code",
      "source": [
        "import pandas as pd\n",
        "import math\n",
        "import numpy as np"
      ],
      "metadata": {
        "id": "qXP7zvuK3mvT"
      },
      "execution_count": 40,
      "outputs": []
    },
    {
      "cell_type": "code",
      "source": [
        "class Node:\n",
        "    def __init__(self):\n",
        "        self.children = []\n",
        "        self.value = \"\"\n",
        "        self.isLeaf = False\n",
        "        self.pred = \"\""
      ],
      "metadata": {
        "id": "iM5ix3Kp3sCJ"
      },
      "execution_count": 41,
      "outputs": []
    },
    {
      "cell_type": "code",
      "source": [
        "def entropy(examples):\n",
        "    pos = 0.0\n",
        "    neg = 0.0\n",
        "    for _, row in examples.iterrows():\n",
        "        if row[\"answer\"] == \"yes\":\n",
        "            pos += 1\n",
        "        else:\n",
        "            neg += 1\n",
        "    if pos == 0.0 or neg == 0.0:\n",
        "        return 0.0\n",
        "    else:\n",
        "        p = pos / (pos + neg)\n",
        "        n = neg / (pos + neg)\n",
        "        return -(p * math.log(p, 2) + n * math.log(n, 2))\n"
      ],
      "metadata": {
        "id": "MObIfqqK3tCa"
      },
      "execution_count": 42,
      "outputs": []
    },
    {
      "cell_type": "code",
      "source": [
        "def info_gain(examples, attr):\n",
        "    uniq = np.unique(examples[attr])\n",
        "    gain = entropy(examples)\n",
        "    for u in uniq:\n",
        "        subdata = examples[examples[attr] == u]\n",
        "        sub_e = entropy(subdata)\n",
        "        gain -= (len(subdata) / len(examples)) * sub_e\n",
        "    return gain"
      ],
      "metadata": {
        "id": "xAbKWCcY3wWR"
      },
      "execution_count": 43,
      "outputs": []
    },
    {
      "cell_type": "code",
      "source": [
        "def ID3(examples, attrs):\n",
        "    root = Node()\n",
        "    max_gain = 0\n",
        "    max_feat = \"\"\n",
        "    for feature in attrs:\n",
        "        gain = info_gain(examples, feature)\n",
        "        if gain > max_gain:\n",
        "            max_gain = gain\n",
        "            max_feat = feature\n",
        "\n",
        "    print(\"Max feature:\", max_feat)\n",
        "    print(\"Attrs before removal:\", attrs)\n",
        "\n",
        "    # Create a new list excluding max_feat\n",
        "    new_attrs = [feat for feat in attrs if feat != max_feat]\n",
        "\n",
        "    print(\"Attrs after removal:\", new_attrs)\n",
        "\n",
        "    root.value = max_feat\n",
        "    uniq = np.unique(examples[max_feat])\n",
        "    for u in uniq:\n",
        "        subdata = examples[examples[max_feat] == u]\n",
        "        if entropy(subdata) == 0.0:\n",
        "            newNode = Node()\n",
        "            newNode.isLeaf = True\n",
        "            newNode.value = u\n",
        "            newNode.pred = np.unique(subdata[\"answer\"])\n",
        "            root.children.append(newNode)\n",
        "        else:\n",
        "            dummyNode = Node()\n",
        "            dummyNode.value = u\n",
        "            child = ID3(subdata, new_attrs)\n",
        "            dummyNode.children.append(child)\n",
        "            root.children.append(dummyNode)\n",
        "    return root"
      ],
      "metadata": {
        "id": "c_AV3HRp3yo4"
      },
      "execution_count": 66,
      "outputs": []
    },
    {
      "cell_type": "code",
      "source": [
        "def printTree(root: Node, depth=0):\n",
        "    for i in range(depth):\n",
        "        print(\"\\t\", end=\"\")\n",
        "    print(root.value, end=\"\")\n",
        "    if root.isLeaf:\n",
        "        print(\" -> \", root.pred)\n",
        "        print()\n",
        "    for child in root.children:\n",
        "        printTree(child, depth + 1)"
      ],
      "metadata": {
        "id": "_iILMcdb36Yo"
      },
      "execution_count": 49,
      "outputs": []
    },
    {
      "cell_type": "code",
      "source": [
        "def classify(root: Node, new):\n",
        "    for child in root.children:\n",
        "        if child.value == new[root.value]:\n",
        "            if child.isLeaf:\n",
        "                print(\"Predicted Label for new example\", new,\" is:\", child.pred)\n",
        "                return\n",
        "            else:\n",
        "                classify(child.children[0], new)"
      ],
      "metadata": {
        "id": "s-Ga9IGe39dg"
      },
      "execution_count": 50,
      "outputs": []
    },
    {
      "cell_type": "code",
      "source": [
        "data = pd.read_csv(\"/content/ID3 algorithm (1).csv\")\n",
        "features = [feat for feat in data]\n",
        "features.remove(\"answer\")"
      ],
      "metadata": {
        "id": "4T7vChsx4CoH"
      },
      "execution_count": 71,
      "outputs": []
    },
    {
      "cell_type": "code",
      "source": [
        "root = ID3(data, features)\n",
        "print(\"Decision Tree is:\")\n",
        "printTree(root)\n",
        "print(\"------------------\")\n",
        "new = {\"outlook\": \"sunny\", \"temperature\": \"hot\", \"humidity\": \"normal\", \"wind\": \"strong\"}\n",
        "classify(root, new)"
      ],
      "metadata": {
        "colab": {
          "base_uri": "https://localhost:8080/"
        },
        "id": "JJhumi304JBX",
        "outputId": "d130ce5b-bd1d-46a8-e987-bb1698a816f4"
      },
      "execution_count": 72,
      "outputs": [
        {
          "output_type": "stream",
          "name": "stdout",
          "text": [
            "Max feature: outlook\n",
            "Attrs before removal: ['outlook', 'temperature', 'humidity', 'wind']\n",
            "Attrs after removal: ['temperature', 'humidity', 'wind']\n",
            "Max feature: wind\n",
            "Attrs before removal: ['temperature', 'humidity', 'wind']\n",
            "Attrs after removal: ['temperature', 'humidity']\n",
            "Max feature: humidity\n",
            "Attrs before removal: ['temperature', 'humidity', 'wind']\n",
            "Attrs after removal: ['temperature', 'wind']\n",
            "Decision Tree is:\n",
            "outlook\tovercast ->  ['yes']\n",
            "\n",
            "\train\t\twind\t\t\tstrong ->  ['no']\n",
            "\n",
            "\t\t\tweak ->  ['yes']\n",
            "\n",
            "\tsunny\t\thumidity\t\t\thigh ->  ['no']\n",
            "\n",
            "\t\t\tnormal ->  ['yes']\n",
            "\n",
            "------------------\n",
            "Predicted Label for new example {'outlook': 'sunny', 'temperature': 'hot', 'humidity': 'normal', 'wind': 'strong'}  is: ['yes']\n"
          ]
        }
      ]
    }
  ]
}