{
  "nbformat": 4,
  "nbformat_minor": 0,
  "metadata": {
    "colab": {
      "provenance": [],
      "authorship_tag": "ABX9TyPIOd4n69i+GCpXa98JfoZb",
      "include_colab_link": true
    },
    "kernelspec": {
      "name": "python3",
      "display_name": "Python 3"
    },
    "language_info": {
      "name": "python"
    }
  },
  "cells": [
    {
      "cell_type": "markdown",
      "metadata": {
        "id": "view-in-github",
        "colab_type": "text"
      },
      "source": [
        "<a href=\"https://colab.research.google.com/github/LifelessPROgrammer/SEM3ML/blob/colabs/2B%5D_For_a_given_set_of_training_data_examples_stored_in_a_CSV_file%2C_implement_and_demonstrate_the_Candidate_Elimination_algorithm_to_output_a_description_of_the_set_of_all_hypotheses_consistent_with_the_training_examples_.ipynb\" target=\"_parent\"><img src=\"https://colab.research.google.com/assets/colab-badge.svg\" alt=\"Open In Colab\"/></a>"
      ]
    },
    {
      "cell_type": "code",
      "execution_count": 2,
      "metadata": {
        "colab": {
          "base_uri": "https://localhost:8080/"
        },
        "id": "0STPeT0RihvN",
        "outputId": "70791ed9-8a84-4201-ab7c-75af95dbf833"
      },
      "outputs": [
        {
          "output_type": "stream",
          "name": "stdout",
          "text": [
            "\n",
            "Instances are:\n",
            " [['sunny' 'hot' 'high' 'weak']\n",
            " ['sunny' 'hot' 'high' 'strong']\n",
            " ['overcast' 'hot' 'high' 'weak']\n",
            " ['rain' 'mild' 'high' 'weak']\n",
            " ['rain' 'cool' 'normal' 'weak']\n",
            " ['rain' 'cool' 'normal' 'strong']\n",
            " ['overcast' 'cool' 'normal' 'strong']\n",
            " ['sunny' 'mild' 'high' 'weak']\n",
            " ['sunny' 'cool' 'normal' 'weak']\n",
            " ['rain' 'mild' 'normal' 'weak']\n",
            " ['sunny' 'mild' 'normal' 'strong']\n",
            " ['overcast' 'mild' 'high' 'strong']\n",
            " ['overcast' 'hot' 'normal' 'weak']\n",
            " ['rain' 'mild' 'high' 'strong']]\n",
            "\n",
            "Target Values are:  ['no' 'no' 'yes' 'yes' 'yes' 'no' 'yes' 'no' 'yes' 'yes' 'yes' 'yes' 'yes'\n",
            " 'no']\n"
          ]
        }
      ],
      "source": [
        "import numpy as np\n",
        "import pandas as pd\n",
        "data = pd.read_csv('/content/ID3 algorithm (1).csv')\n",
        "concepts = np.array(data.iloc[:,0:-1])\n",
        "print(\"\\nInstances are:\\n\",concepts)\n",
        "target = np.array(data.iloc[:,-1])\n",
        "print(\"\\nTarget Values are: \",target)"
      ]
    },
    {
      "cell_type": "code",
      "source": [
        "def learn(concepts, target):\n",
        "    specific_h = concepts[0].copy()\n",
        "    print(\"\\nInitialization of specific_h and genearal_h\")\n",
        "    print(\"\\nSpecific Boundary: \", specific_h)\n",
        "    general_h = [[\"?\" for i in range(len(specific_h))] for i in range(len(specific_h))]\n",
        "    print(\"\\nGeneric Boundary: \",general_h)\n",
        "    for i, h in enumerate(concepts):\n",
        "        print(\"\\nInstance\", i+1 , \"is \", h)\n",
        "        if target[i] == \"yes\":\n",
        "            print(\"Instance is Positive \")\n",
        "            for x in range(len (specific_h)):\n",
        "                if h[x]!= specific_h[x]:\n",
        "                    specific_h[x] ='?'\n",
        "                    general_h[x][x] ='?'\n",
        "                    if target[i] == \"no\":\n",
        "                      print(\"Instance is Negative \")\n",
        "            for x in range(len(specific_h)):\n",
        "              if h[x]!= specific_h[x]:\n",
        "                general_h[x][x] = specific_h[x]\n",
        "            else:\n",
        "                general_h[x][x] = '?'\n",
        "                print(\"Specific Bundary after \", i+1, \"Instance is \", specific_h)\n",
        "        print(\"Generic Boundary after \", i+1, \"Instance is \", general_h)\n",
        "        print(\"\\n\")\n",
        "        indices = [i for i, val in enumerate(general_h) if val == ['?', '?', '?', '?', '?', '?']]\n",
        "    for i in indices:\n",
        "        general_h.remove(['?', '?', '?', '?', '?', '?'])\n",
        "    return specific_h, general_h"
      ],
      "metadata": {
        "id": "gc-Nbntkji9T"
      },
      "execution_count": 3,
      "outputs": []
    },
    {
      "cell_type": "code",
      "source": [
        "s_final, g_final = learn(concepts, target)"
      ],
      "metadata": {
        "colab": {
          "base_uri": "https://localhost:8080/"
        },
        "id": "eGs49mvDjogB",
        "outputId": "e455cef9-0962-4430-962b-c14a6d388727"
      },
      "execution_count": 4,
      "outputs": [
        {
          "output_type": "stream",
          "name": "stdout",
          "text": [
            "\n",
            "Initialization of specific_h and genearal_h\n",
            "\n",
            "Specific Boundary:  ['sunny' 'hot' 'high' 'weak']\n",
            "\n",
            "Generic Boundary:  [['?', '?', '?', '?'], ['?', '?', '?', '?'], ['?', '?', '?', '?'], ['?', '?', '?', '?']]\n",
            "\n",
            "Instance 1 is  ['sunny' 'hot' 'high' 'weak']\n",
            "Generic Boundary after  1 Instance is  [['?', '?', '?', '?'], ['?', '?', '?', '?'], ['?', '?', '?', '?'], ['?', '?', '?', '?']]\n",
            "\n",
            "\n",
            "\n",
            "Instance 2 is  ['sunny' 'hot' 'high' 'strong']\n",
            "Generic Boundary after  2 Instance is  [['?', '?', '?', '?'], ['?', '?', '?', '?'], ['?', '?', '?', '?'], ['?', '?', '?', '?']]\n",
            "\n",
            "\n",
            "\n",
            "Instance 3 is  ['overcast' 'hot' 'high' 'weak']\n",
            "Instance is Positive \n",
            "Specific Bundary after  3 Instance is  ['?' 'hot' 'high' 'weak']\n",
            "Generic Boundary after  3 Instance is  [['?', '?', '?', '?'], ['?', '?', '?', '?'], ['?', '?', '?', '?'], ['?', '?', '?', '?']]\n",
            "\n",
            "\n",
            "\n",
            "Instance 4 is  ['rain' 'mild' 'high' 'weak']\n",
            "Instance is Positive \n",
            "Specific Bundary after  4 Instance is  ['?' '?' 'high' 'weak']\n",
            "Generic Boundary after  4 Instance is  [['?', '?', '?', '?'], ['?', '?', '?', '?'], ['?', '?', '?', '?'], ['?', '?', '?', '?']]\n",
            "\n",
            "\n",
            "\n",
            "Instance 5 is  ['rain' 'cool' 'normal' 'weak']\n",
            "Instance is Positive \n",
            "Specific Bundary after  5 Instance is  ['?' '?' '?' 'weak']\n",
            "Generic Boundary after  5 Instance is  [['?', '?', '?', '?'], ['?', '?', '?', '?'], ['?', '?', '?', '?'], ['?', '?', '?', '?']]\n",
            "\n",
            "\n",
            "\n",
            "Instance 6 is  ['rain' 'cool' 'normal' 'strong']\n",
            "Generic Boundary after  6 Instance is  [['?', '?', '?', '?'], ['?', '?', '?', '?'], ['?', '?', '?', '?'], ['?', '?', '?', '?']]\n",
            "\n",
            "\n",
            "\n",
            "Instance 7 is  ['overcast' 'cool' 'normal' 'strong']\n",
            "Instance is Positive \n",
            "Specific Bundary after  7 Instance is  ['?' '?' '?' '?']\n",
            "Generic Boundary after  7 Instance is  [['?', '?', '?', '?'], ['?', '?', '?', '?'], ['?', '?', '?', '?'], ['?', '?', '?', '?']]\n",
            "\n",
            "\n",
            "\n",
            "Instance 8 is  ['sunny' 'mild' 'high' 'weak']\n",
            "Generic Boundary after  8 Instance is  [['?', '?', '?', '?'], ['?', '?', '?', '?'], ['?', '?', '?', '?'], ['?', '?', '?', '?']]\n",
            "\n",
            "\n",
            "\n",
            "Instance 9 is  ['sunny' 'cool' 'normal' 'weak']\n",
            "Instance is Positive \n",
            "Specific Bundary after  9 Instance is  ['?' '?' '?' '?']\n",
            "Generic Boundary after  9 Instance is  [['?', '?', '?', '?'], ['?', '?', '?', '?'], ['?', '?', '?', '?'], ['?', '?', '?', '?']]\n",
            "\n",
            "\n",
            "\n",
            "Instance 10 is  ['rain' 'mild' 'normal' 'weak']\n",
            "Instance is Positive \n",
            "Specific Bundary after  10 Instance is  ['?' '?' '?' '?']\n",
            "Generic Boundary after  10 Instance is  [['?', '?', '?', '?'], ['?', '?', '?', '?'], ['?', '?', '?', '?'], ['?', '?', '?', '?']]\n",
            "\n",
            "\n",
            "\n",
            "Instance 11 is  ['sunny' 'mild' 'normal' 'strong']\n",
            "Instance is Positive \n",
            "Specific Bundary after  11 Instance is  ['?' '?' '?' '?']\n",
            "Generic Boundary after  11 Instance is  [['?', '?', '?', '?'], ['?', '?', '?', '?'], ['?', '?', '?', '?'], ['?', '?', '?', '?']]\n",
            "\n",
            "\n",
            "\n",
            "Instance 12 is  ['overcast' 'mild' 'high' 'strong']\n",
            "Instance is Positive \n",
            "Specific Bundary after  12 Instance is  ['?' '?' '?' '?']\n",
            "Generic Boundary after  12 Instance is  [['?', '?', '?', '?'], ['?', '?', '?', '?'], ['?', '?', '?', '?'], ['?', '?', '?', '?']]\n",
            "\n",
            "\n",
            "\n",
            "Instance 13 is  ['overcast' 'hot' 'normal' 'weak']\n",
            "Instance is Positive \n",
            "Specific Bundary after  13 Instance is  ['?' '?' '?' '?']\n",
            "Generic Boundary after  13 Instance is  [['?', '?', '?', '?'], ['?', '?', '?', '?'], ['?', '?', '?', '?'], ['?', '?', '?', '?']]\n",
            "\n",
            "\n",
            "\n",
            "Instance 14 is  ['rain' 'mild' 'high' 'strong']\n",
            "Generic Boundary after  14 Instance is  [['?', '?', '?', '?'], ['?', '?', '?', '?'], ['?', '?', '?', '?'], ['?', '?', '?', '?']]\n",
            "\n",
            "\n"
          ]
        }
      ]
    },
    {
      "cell_type": "code",
      "source": [
        "print(\"Final Specific_h: \", s_final, sep=\"\\n\")\n",
        "print(\"Final General_h: \", g_final, sep=\"\\n\")"
      ],
      "metadata": {
        "colab": {
          "base_uri": "https://localhost:8080/"
        },
        "id": "IzCft0Zzj7UH",
        "outputId": "39828a5e-8c8a-4935-aaad-90d37b9f5fe7"
      },
      "execution_count": 5,
      "outputs": [
        {
          "output_type": "stream",
          "name": "stdout",
          "text": [
            "Final Specific_h: \n",
            "['?' '?' '?' '?']\n",
            "Final General_h: \n",
            "[['?', '?', '?', '?'], ['?', '?', '?', '?'], ['?', '?', '?', '?'], ['?', '?', '?', '?']]\n"
          ]
        }
      ]
    }
  ]
}