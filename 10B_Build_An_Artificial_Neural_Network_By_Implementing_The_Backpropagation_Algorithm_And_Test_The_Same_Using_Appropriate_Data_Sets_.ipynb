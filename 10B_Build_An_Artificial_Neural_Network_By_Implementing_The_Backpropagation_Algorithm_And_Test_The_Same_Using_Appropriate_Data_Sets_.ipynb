{
  "nbformat": 4,
  "nbformat_minor": 0,
  "metadata": {
    "colab": {
      "provenance": [],
      "authorship_tag": "ABX9TyMOiW2YRkSF4mhxEzk+yZtp",
      "include_colab_link": true
    },
    "kernelspec": {
      "name": "python3",
      "display_name": "Python 3"
    },
    "language_info": {
      "name": "python"
    }
  },
  "cells": [
    {
      "cell_type": "markdown",
      "metadata": {
        "id": "view-in-github",
        "colab_type": "text"
      },
      "source": [
        "<a href=\"https://colab.research.google.com/github/LifelessPROgrammer/SEM3ML/blob/colabs/10B_Build_An_Artificial_Neural_Network_By_Implementing_The_Backpropagation_Algorithm_And_Test_The_Same_Using_Appropriate_Data_Sets_.ipynb\" target=\"_parent\"><img src=\"https://colab.research.google.com/assets/colab-badge.svg\" alt=\"Open In Colab\"/></a>"
      ]
    },
    {
      "cell_type": "code",
      "execution_count": 1,
      "metadata": {
        "id": "RBzouVfNrx30"
      },
      "outputs": [],
      "source": [
        "import numpy as np\n",
        "X = np.array(([2, 9], [1, 5], [3, 6]), dtype=float)\n",
        "y = np.array(([92], [86], [89]), dtype=float)\n",
        "X = X/np.amax(X,axis=0) # maximum of X array longitudinally\n",
        "y = y/100"
      ]
    },
    {
      "cell_type": "code",
      "source": [
        "def sigmoid (x):\n",
        "  return 1/(1 + np.exp(-x))"
      ],
      "metadata": {
        "id": "s3iR0_GqDnwu"
      },
      "execution_count": 6,
      "outputs": []
    },
    {
      "cell_type": "code",
      "source": [
        "epoch=5000 #Setting training iterations\n",
        "lr=0.1 #Setting learning rate\n",
        "inputlayer_neurons = 2 #number of features in data set\n",
        "hiddenlayer_neurons = 3 #number of hidden layers neurons\n",
        "output_neurons = 1 #number of neurons at output layer"
      ],
      "metadata": {
        "id": "Wv4yFgrtELbj"
      },
      "execution_count": 7,
      "outputs": []
    },
    {
      "cell_type": "code",
      "source": [
        "#weight and bias initialization\n",
        "wh=np.random.uniform(size=(inputlayer_neurons,hiddenlayer_neurons))\n",
        "bh=np.random.uniform(size=(1,hiddenlayer_neurons))\n",
        "wout=np.random.uniform(size=(hiddenlayer_neurons,output_neurons))\n",
        "bout=np.random.uniform(size=(1,output_neurons))"
      ],
      "metadata": {
        "id": "vmfY_bohEOiD"
      },
      "execution_count": 8,
      "outputs": []
    },
    {
      "cell_type": "code",
      "source": [
        "#draws a random range of numbers uniformly of dim x*y\n",
        "for i in range(epoch):\n",
        "  #Forward Propogation\n",
        "  hinp1=np.dot(X,wh)\n",
        "hinp=hinp1 + bh\n",
        "hlayer_act = sigmoid(hinp)\n",
        "outinp1=np.dot(hlayer_act,wout)\n",
        "outinp= outinp1+ bout\n",
        "output = sigmoid(outinp)"
      ],
      "metadata": {
        "id": "q2kui9RWEQPM"
      },
      "execution_count": 11,
      "outputs": []
    },
    {
      "cell_type": "code",
      "source": [
        "#Backpropagation\n",
        "EO = y-output\n",
        "outgrad = sigmoid(output)\n",
        "d_output = EO* outgrad\n",
        "EH = d_output.dot(wout.T)"
      ],
      "metadata": {
        "id": "sKpmi7cnEbmx"
      },
      "execution_count": 13,
      "outputs": []
    },
    {
      "cell_type": "code",
      "source": [
        "#how much hidden layer wts contributed to error\n",
        "hiddengrad = sigmoid(hlayer_act)\n",
        "d_hiddenlayer = EH * hiddengrad"
      ],
      "metadata": {
        "id": "buRyxViXEnc4"
      },
      "execution_count": 15,
      "outputs": []
    },
    {
      "cell_type": "code",
      "source": [
        "# dotproduct of nextlayererror and currentlayerop\n",
        "wout += hlayer_act.T.dot(d_output) *lr\n",
        "wh += X.T.dot(d_hiddenlayer) *lr\n",
        "print(\"Input: \\n\" + str(X))\n",
        "print(\"Actual Output: \\n\" + str(y))\n",
        "print(\"Predicted Output: \\n\" ,output)"
      ],
      "metadata": {
        "colab": {
          "base_uri": "https://localhost:8080/"
        },
        "id": "FOvZuTr-EtMA",
        "outputId": "f18d5624-e7a7-425b-d680-393a423c36c7"
      },
      "execution_count": 16,
      "outputs": [
        {
          "output_type": "stream",
          "name": "stdout",
          "text": [
            "Input: \n",
            "[[0.66666667 1.        ]\n",
            " [0.33333333 0.55555556]\n",
            " [1.         0.66666667]]\n",
            "Actual Output: \n",
            "[[0.92]\n",
            " [0.86]\n",
            " [0.89]]\n",
            "Predicted Output: \n",
            " [[0.92096291]\n",
            " [0.90843143]\n",
            " [0.91831852]]\n"
          ]
        }
      ]
    }
  ]
}